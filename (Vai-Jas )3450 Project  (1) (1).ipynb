{
 "cells": [
  {
   "cell_type": "markdown",
   "id": "79c7b66d",
   "metadata": {},
   "source": [
    "## <font color='orangered'>Group Project by: Jasman Jawandha and Vaibhavi Tailor"
   ]
  },
  {
   "cell_type": "markdown",
   "id": "fa438356",
   "metadata": {},
   "source": [
    "# <font color='orangered'>Introduction:\n",
    "### <font size=\"5\">The COVID-19 Pandemic:  \n",
    "\n",
    "</font><font color='blue'>In the wake of the COVID-19 pandemic, a crucial question arises: *How does the intersection of sex and chronic conditions influence mortality rates in COVID-19 patients?* This study endeavors to untangle this complex interaction, offering vital insights for crafting targeted health interventions and policies. Leveraging a comprehensive dataset, we apply the chi-square statistical test to scrutinize the association between sex and various chronic conditions in COVID-19 affected individuals. This analysis not only aims to unearth significant correlations but also strives to make these findings comprehensible to a diverse audience, including those with foundational statistical knowledge. Our exploration into this intricate topic seeks to enrich the broader understanding of COVID-19 risk factors, thereby bolstering informed healthcare decisions.\n",
    "\n",
    "</font><font color='blue'> We have meticulously compiled a dataset that delineates crucial information, categorizing individuals based on their sex and the presence or absence of assorted chronic conditions. Our objective is to employ statistical analysis, specifically the chi-square test, to determine if there exists a notable association between sex and the prevalence of specific chronic conditions in individuals impacted by COVID-19."
   ]
  },
  {
   "cell_type": "markdown",
   "id": "5dc45f70",
   "metadata": {},
   "source": [
    "## <font color='orangered'>Library importing\n",
    "    All the needed libraries for this analysis have been imported in the below cell"
   ]
  },
  {
   "cell_type": "code",
   "execution_count": 1,
   "id": "bcdb0ce8",
   "metadata": {},
   "outputs": [],
   "source": [
    "import pandas as pd\n",
    "import seaborn as sns\n",
    "import matplotlib.pyplot as plt\n",
    "from scipy.stats import chi2_contingency, chi2\n",
    "import numpy as np\n",
    "from ipywidgets import *\n",
    "from ipywidgets import interact, interactive, fixed, interact_manual\n"
   ]
  },
  {
   "cell_type": "markdown",
   "id": "d8920f8c",
   "metadata": {},
   "source": [
    "## <font color='orangered'>Data Loading:\n",
    "    Input file that we got from Kaggle has been loaded in the dataframe named covid_data1"
   ]
  },
  {
   "cell_type": "code",
   "execution_count": 2,
   "id": "3fea0074",
   "metadata": {},
   "outputs": [],
   "source": [
    "covid_data1 = pd.read_csv('Covid Data.csv')\n",
    "# In this dataset 1 = 'yes' and 2 = 'no' for every condition and 97,98,99 means missing values\n"
   ]
  },
  {
   "cell_type": "code",
   "execution_count": 3,
   "id": "a45d7443",
   "metadata": {},
   "outputs": [
    {
     "name": "stdout",
     "output_type": "stream",
     "text": [
      "USMER                        0\n",
      "MEDICAL_UNIT                 0\n",
      "SEX                          0\n",
      "PATIENT_TYPE                 0\n",
      "DATE_DIED                    0\n",
      "INTUBED                 855869\n",
      "PNEUMONIA                16003\n",
      "AGE                        345\n",
      "PREGNANT                527265\n",
      "DIABETES                  3338\n",
      "COPD                      3003\n",
      "ASTHMA                    2979\n",
      "INMSUPR                   3404\n",
      "HIPERTENSION              3104\n",
      "OTHER_DISEASE             5045\n",
      "CARDIOVASCULAR            3076\n",
      "OBESITY                   3032\n",
      "RENAL_CHRONIC             3006\n",
      "TOBACCO                   3220\n",
      "CLASIFFICATION_FINAL         0\n",
      "ICU                     856032\n",
      "dtype: int64\n"
     ]
    }
   ],
   "source": [
    "# Identify missing values encoded as 97,98, 99 in boolean features\n",
    "missing_values = [97,98, 99]\n",
    "\n",
    "# Replace 97,98 and 99 with NaN\n",
    "covid_data =covid_data1.replace(missing_values, np.nan)\n",
    "\n",
    "missing_counts = covid_data.isna().sum()\n",
    "\n",
    "print(missing_counts)\n"
   ]
  },
  {
   "cell_type": "markdown",
   "id": "ec9b0607",
   "metadata": {},
   "source": [
    "## <font color='orangered'>DECEASED column \n",
    "  It is made by comparing values in DATE_DIED column of the dataset"
   ]
  },
  {
   "cell_type": "code",
   "execution_count": 4,
   "id": "339caa78",
   "metadata": {},
   "outputs": [],
   "source": [
    "covid_data['DECEASED'] = covid_data['DATE_DIED'].apply(lambda x: 0 if x == '9999-99-99' else 1)\n",
    "chronic_conditions = ['DIABETES', 'ASTHMA', 'INMSUPR', 'HIPERTENSION', \n",
    "                      'CARDIOVASCULAR', 'OBESITY', 'RENAL_CHRONIC', 'PNEUMONIA', 'DECEASED']\n",
    "chronic_data = covid_data[chronic_conditions]\n"
   ]
  },
  {
   "cell_type": "code",
   "execution_count": 5,
   "id": "eabd7bca",
   "metadata": {},
   "outputs": [
    {
     "data": {
      "text/plain": [
       "DIABETES          1.880420\n",
       "ASTHMA            1.969805\n",
       "INMSUPR           1.986442\n",
       "HIPERTENSION      1.844349\n",
       "CARDIOVASCULAR    1.980135\n",
       "OBESITY           1.847145\n",
       "RENAL_CHRONIC     1.981920\n",
       "PNEUMONIA         1.864379\n",
       "DECEASED          0.073378\n",
       "dtype: float64"
      ]
     },
     "execution_count": 5,
     "metadata": {},
     "output_type": "execute_result"
    }
   ],
   "source": [
    "death_rates = chronic_data.mean()\n",
    "death_rates"
   ]
  },
  {
   "cell_type": "code",
   "execution_count": 6,
   "id": "8a68c42c",
   "metadata": {
    "scrolled": true
   },
   "outputs": [
    {
     "data": {
      "text/html": [
       "<div>\n",
       "<style scoped>\n",
       "    .dataframe tbody tr th:only-of-type {\n",
       "        vertical-align: middle;\n",
       "    }\n",
       "\n",
       "    .dataframe tbody tr th {\n",
       "        vertical-align: top;\n",
       "    }\n",
       "\n",
       "    .dataframe thead th {\n",
       "        text-align: right;\n",
       "    }\n",
       "</style>\n",
       "<table border=\"1\" class=\"dataframe\">\n",
       "  <thead>\n",
       "    <tr style=\"text-align: right;\">\n",
       "      <th></th>\n",
       "      <th>Death Rate with Condition</th>\n",
       "      <th>Death Rate without Condition</th>\n",
       "    </tr>\n",
       "  </thead>\n",
       "  <tbody>\n",
       "    <tr>\n",
       "      <th>DIABETES</th>\n",
       "      <td>0.226140</td>\n",
       "      <td>0.052101</td>\n",
       "    </tr>\n",
       "    <tr>\n",
       "      <th>ASTHMA</th>\n",
       "      <td>0.046877</td>\n",
       "      <td>0.073724</td>\n",
       "    </tr>\n",
       "    <tr>\n",
       "      <th>INMSUPR</th>\n",
       "      <td>0.184757</td>\n",
       "      <td>0.071357</td>\n",
       "    </tr>\n",
       "    <tr>\n",
       "      <th>HIPERTENSION</th>\n",
       "      <td>0.197021</td>\n",
       "      <td>0.050061</td>\n",
       "    </tr>\n",
       "    <tr>\n",
       "      <th>CARDIOVASCULAR</th>\n",
       "      <td>0.213539</td>\n",
       "      <td>0.070042</td>\n",
       "    </tr>\n",
       "    <tr>\n",
       "      <th>OBESITY</th>\n",
       "      <td>0.108212</td>\n",
       "      <td>0.066536</td>\n",
       "    </tr>\n",
       "    <tr>\n",
       "      <th>RENAL_CHRONIC</th>\n",
       "      <td>0.301894</td>\n",
       "      <td>0.068700</td>\n",
       "    </tr>\n",
       "    <tr>\n",
       "      <th>PNEUMONIA</th>\n",
       "      <td>0.385060</td>\n",
       "      <td>0.024968</td>\n",
       "    </tr>\n",
       "    <tr>\n",
       "      <th>DECEASED</th>\n",
       "      <td>1.000000</td>\n",
       "      <td>NaN</td>\n",
       "    </tr>\n",
       "  </tbody>\n",
       "</table>\n",
       "</div>"
      ],
      "text/plain": [
       "                Death Rate with Condition  Death Rate without Condition\n",
       "DIABETES                         0.226140                      0.052101\n",
       "ASTHMA                           0.046877                      0.073724\n",
       "INMSUPR                          0.184757                      0.071357\n",
       "HIPERTENSION                     0.197021                      0.050061\n",
       "CARDIOVASCULAR                   0.213539                      0.070042\n",
       "OBESITY                          0.108212                      0.066536\n",
       "RENAL_CHRONIC                    0.301894                      0.068700\n",
       "PNEUMONIA                        0.385060                      0.024968\n",
       "DECEASED                         1.000000                           NaN"
      ]
     },
     "execution_count": 6,
     "metadata": {},
     "output_type": "execute_result"
    }
   ],
   "source": [
    "death_rates = {}\n",
    "for condition in chronic_data[:-1]:\n",
    "    condition_present = chronic_data[chronic_data[condition] == 1]\n",
    "    condition_absent = chronic_data[chronic_data[condition] == 2]\n",
    "    death_rate_present = condition_present['DECEASED'].mean()\n",
    "    death_rate_absent = condition_absent['DECEASED'].mean()\n",
    "    death_rates[condition] = {'Death Rate with Condition': death_rate_present, \n",
    "                              'Death Rate without Condition': death_rate_absent}\n",
    "death_rates_df = pd.DataFrame(death_rates).T\n",
    "death_rates_df"
   ]
  },
  {
   "cell_type": "code",
   "execution_count": 7,
   "id": "7646c5b4",
   "metadata": {},
   "outputs": [
    {
     "data": {
      "application/vnd.jupyter.widget-view+json": {
       "model_id": "243f6c613ed04a87b64358e5dd434483",
       "version_major": 2,
       "version_minor": 0
      },
      "text/plain": [
       "interactive(children=(Dropdown(description='Select Chronic Condition', options=('DIABETES', 'ASTHMA', 'INMSUPR…"
      ]
     },
     "metadata": {},
     "output_type": "display_data"
    },
    {
     "data": {
      "text/plain": [
       "<function __main__.createBarPlot(condition)>"
      ]
     },
     "execution_count": 7,
     "metadata": {},
     "output_type": "execute_result"
    }
   ],
   "source": [
    "def createBarPlot(condition):\n",
    "    plt.figure(figsize=(4, 4))\n",
    "    sns.barplot(x=['With Condition', 'Without Condition'], \n",
    "                y=[death_rates_df.loc[condition, 'Death Rate with Condition'], \n",
    "                death_rates_df.loc[condition, 'Death Rate without Condition']])\n",
    "    plt.title(f'Death Rates for {condition}')\n",
    "    plt.ylim(0, 1)  # Set y-axis limit to ensure consistent scale\n",
    "    plt.show()\n",
    "\n",
    "condition_dropdown = widgets.Dropdown(options=chronic_data, description='Select Chronic Condition')\n",
    "\n",
    "interact(createBarPlot, condition=condition_dropdown)"
   ]
  },
  {
   "cell_type": "code",
   "execution_count": 8,
   "id": "281ccc24",
   "metadata": {},
   "outputs": [
    {
     "data": {
      "application/vnd.jupyter.widget-view+json": {
       "model_id": "a39e4530f8e54b69bf96ce4de413bcd4",
       "version_major": 2,
       "version_minor": 0
      },
      "text/plain": [
       "interactive(children=(Dropdown(description='Condition:', options=('DIABETES', 'ASTHMA', 'INMSUPR', 'HIPERTENSI…"
      ]
     },
     "metadata": {},
     "output_type": "display_data"
    }
   ],
   "source": [
    "def create_pie_chart(condition):\n",
    "    yes_count = covid_data[covid_data[condition] == 1].shape[0]\n",
    "    no_count = covid_data[covid_data[condition] == 2].shape[0]\n",
    "\n",
    "    labels = [f'{condition} Yes', f'{condition} No']\n",
    "    sizes = [yes_count, no_count]\n",
    "\n",
    "    plt.figure(figsize=(8, 8))\n",
    "    plt.pie(sizes, labels=labels, autopct='%1.1f%%', startangle=140)\n",
    "    plt.title(f'Distribution of {condition} in COVID-19 Patients')\n",
    "    plt.show()\n",
    "\n",
    "condition_dropdown = widgets.Dropdown(\n",
    "    options=chronic_conditions,\n",
    "    description='Condition:',\n",
    "    disabled=False,\n",
    ")\n",
    "\n",
    "widgets.interactive(create_pie_chart, condition=condition_dropdown)\n"
   ]
  },
  {
   "cell_type": "markdown",
   "id": "d55818e4",
   "metadata": {},
   "source": [
    "## <font color='orangered'>Methodology:\n",
    "In our study, the chi-square test plays a pivotal role in examining the relationship between sex and chronic conditions in COVID-19 patients. This statistical method is apt for categorical data like ours, where variables are sex (male or female) and chronic conditions (presence or absence). The chi-square test assesses whether a significant association exists between these variables, helping to understand if the distribution of chronic conditions varies between sexes. When the chi-square statistic is high, it indicates a noteworthy relationship. This insight is crucial, as it helps us determine if certain chronic conditions are more prevalent in one sex, contributing to COVID-19 mortality. This understanding is vital for public health strategies, emphasizing the importance of our choice of the chi-square test for this analysis."
   ]
  },
  {
   "cell_type": "code",
   "execution_count": 9,
   "id": "f36849ed",
   "metadata": {},
   "outputs": [],
   "source": [
    "#Correlation matrix"
   ]
  },
  {
   "cell_type": "code",
   "execution_count": 10,
   "id": "aa60372f",
   "metadata": {},
   "outputs": [
    {
     "data": {
      "application/vnd.jupyter.widget-view+json": {
       "model_id": "b28df98b70a14336afc9c9ed7a7090c8",
       "version_major": 2,
       "version_minor": 0
      },
      "text/plain": [
       "interactive(children=(Dropdown(description='Select Chronic Condition for Chi-Square Test', layout=Layout(width…"
      ]
     },
     "metadata": {},
     "output_type": "display_data"
    },
    {
     "data": {
      "image/png": "[encoded data removed]",
      "text/plain": [
       "<Figure size 864x576 with 2 Axes>"
      ]
     },
     "metadata": {
      "needs_background": "light"
     },
     "output_type": "display_data"
    }
   ],
   "source": [
    "def chiSquareTest(condition):\n",
    "    contingency_table = pd.crosstab(covid_data['SEX'], chronic_data[condition])\n",
    "    chi2_stat, p, dof, ex = chi2_contingency(contingency_table, correction=False)\n",
    "\n",
    "    alpha = 0.05\n",
    "    critical_value = chi2.ppf(1 - alpha, dof)\n",
    "    \n",
    "    \n",
    "    print(f\"\\nChi-Square Test for {condition}:\\n\")\n",
    "    print(f\"Chi-Square Statistic: {chi2_stat}\")\n",
    "    print(f\"Critical Value: {critical_value}\")\n",
    "    if chi2_stat > critical_value:\n",
    "        print(f\"\\nReject the null hypothesis. There is a significant association between SEX and {condition} on death rates\")\n",
    "    else:\n",
    "        print(f\"\\nFail to reject the null hypothesis. There is no significant association between SEX and {condition}  on death rates\")\n",
    "\n",
    "chi_square_dropdown = widgets.Dropdown(\n",
    "    options=chronic_conditions[:-1],\n",
    "    description='Select Chronic Condition for Chi-Square Test',\n",
    "    style={'description_width': 'initial'},\n",
    "    layout=Layout(width='auto')\n",
    ")\n",
    "\n",
    "interact(chiSquareTest, condition=chi_square_dropdown)\n",
    "\n",
    "# Correlation Matrix\n",
    "correlation_matrix = chronic_data.corr()\n",
    "plt.figure(figsize=(12, 8))\n",
    "sns.heatmap(correlation_matrix, annot=True, cmap='inferno')\n",
    "plt.title('Correlation Matrix of Chronic Conditions and Death')\n",
    "plt.show()"
   ]
  },
  {
   "cell_type": "markdown",
   "id": "dd6ff53f",
   "metadata": {},
   "source": [
    "## <font color='orangered'>Results and Discussion\n",
    "\n",
    "### Chi-Square Test Insights:\n",
    "The results from the chi-square test shed light on the intricate relationship between sex and various chronic conditions in the context of COVID-19 mortality. We observed notable variations in the prevalence of these conditions among males and females. These differences, when evaluated through statistical significance, provide a clearer understanding of how sex may influence the impact of chronic conditions on COVID-19 outcomes.\n",
    "\n",
    "### Findings and Implications:\n",
    "Our study highlights significant associations between sex and chronic conditions such as hypertension, diabetes, and obesity. These conditions exhibited distinct prevalence patterns when analyzed across different sexes. Our findings align with existing research, which suggests varied impacts of COVID-19 based on sex and comorbidities. Notably, the higher mortality rates associated with certain conditions in one sex compared to the other underscore the potential benefits of sex-specific medical interventions and guidelines in the management of COVID-19.\n",
    "\n",
    "### Role of Interactive Visualizations:\n",
    "The use of interactive visualizations in our study enhances user engagement with the data. These tools allow for a more comprehensive understanding of how chronic conditions affect COVID-19 outcomes differently across sexes. Such insights are invaluable for healthcare professionals and policymakers. They underline the importance of tailoring strategies to combat the pandemic, emphasizing the need for targeted health interventions and resource allocation based on sex-specific data.\n",
    "\n",
    "\n",
    "\n"
   ]
  },
  {
   "cell_type": "markdown",
   "id": "026d30ab",
   "metadata": {},
   "source": [
    "## <font color='orangered'> Limitations and Future Work:\n",
    "\n",
    "While our study provides valuable insights, it is not without limitations. Firstly, the dataset, though extensive, may not capture all nuances such as the severity of chronic conditions, lifestyle factors, or genetic predispositions that could influence COVID-19 outcomes. Additionally, the dataset's scope is limited geographically and temporally, which may affect the generalizability of our findings to other populations or time periods.\n",
    "\n",
    "Future research should aim to incorporate more granular data, including detailed patient histories and longitudinal tracking, to better understand the progression of COVID-19 in patients with chronic conditions. Exploring genetic factors and lifestyle choices, such as diet and exercise, could also offer a more comprehensive picture. Moreover, studies focusing on intervention effectiveness across different sexes and health conditions would be valuable in developing targeted treatment strategies.\n",
    "\n",
    "By acknowledging these limitations and suggesting avenues for future research, we contribute to the ongoing discourse and encourage further investigations that could ultimately enhance patient care and public health strategies during the pandemic and beyond."
   ]
  },
  {
   "cell_type": "markdown",
   "id": "12b02339",
   "metadata": {},
   "source": [
    "## <font color='orangered'>Conclusion:\n",
    "Our comprehensive analysis has unveiled critical insights into the complex dynamics between sex and chronic conditions and their collective impact on COVID-19 mortality. Through meticulous application of the chi-square test, we have not only illuminated the statistical significance of these associations but also unearthed distinct patterns that are instrumental in understanding the severity of COVID-19 outcomes. This exploration has added a valuable layer to the existing corpus of knowledge, highlighting specific risk factors pivotal in the context of the pandemic. \n",
    "\n",
    "The nuanced interplay we discovered serves as an essential guidepost for healthcare professionals, policymakers, and the public. It underscores the importance of considering both sex and chronic conditions in developing targeted and effective responses to COVID-19. Our findings advocate for a more personalized approach to healthcare, where interventions and policies are adapted to address the unique risks presented by different demographics. \n",
    "\n",
    "As we continue to confront the challenges posed by COVID-19, the insights from our study offer a beacon for informed and strategic decision-making. They empower stakeholders to implement measures that can significantly reduce the pandemic's toll on the most vulnerable groups. Our research, therefore, not only contributes to the scientific understanding of the pandemic but also plays a crucial role in shaping resilient and responsive public health strategies for the future.\n"
   ]
  },
  {
   "cell_type": "markdown",
   "id": "1847b966",
   "metadata": {},
   "source": [
    "## <font color='orangered'>Citation:"
   ]
  },
  {
   "cell_type": "markdown",
   "id": "b41a864f",
   "metadata": {},
   "source": [
    "Nizri, M. (2022, November 13). Covid-19 dataset. Kaggle. https://www.kaggle.com/datasets/meirnizri/covid19-dataset "
   ]
  },
  {
   "cell_type": "code",
   "execution_count": null,
   "id": "ab85b9bb",
   "metadata": {},
   "outputs": [],
   "source": []
  }
 ],
 "metadata": {
  "kernelspec": {
   "display_name": "Python 3 (ipykernel)",
   "language": "python",
   "name": "python3"
  },
  "language_info": {
   "codemirror_mode": {
    "name": "ipython",
    "version": 3
   },
   "file_extension": ".py",
   "mimetype": "text/x-python",
   "name": "python",
   "nbconvert_exporter": "python",
   "pygments_lexer": "ipython3",
   "version": "3.9.7"
  }
 },
 "nbformat": 4,
 "nbformat_minor": 5
}
